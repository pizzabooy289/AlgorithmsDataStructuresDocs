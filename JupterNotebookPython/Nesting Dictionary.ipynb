{
 "cells": [
  {
   "cell_type": "markdown",
   "metadata": {},
   "source": [
    "# Nesting Dictionary"
   ]
  },
  {
   "cell_type": "code",
   "execution_count": 2,
   "metadata": {
    "collapsed": false
   },
   "outputs": [
    {
     "name": "stdout",
     "output_type": "stream",
     "text": [
      "{'a': {'bb': 11}, 'd': 3, 'e': {'gg': {'hhh': 555}, 'ff': 44}, 'c': 2}\n"
     ]
    }
   ],
   "source": [
    "Y1 ={ 'bb':11}\n",
    "\n",
    "Y10 = {'hhh':555}\n",
    "\n",
    "Y7 = { 'ff':44, 'gg': Y10}\n",
    "\n",
    "Y = {'a': Y1, 'c':2, 'd':3, 'e': Y7 }\n",
    "\n",
    "print(Y)"
   ]
  }
 ],
 "metadata": {
  "kernelspec": {
   "display_name": "Python [conda root]",
   "language": "python",
   "name": "conda-root-py"
  },
  "language_info": {
   "codemirror_mode": {
    "name": "ipython",
    "version": 3
   },
   "file_extension": ".py",
   "mimetype": "text/x-python",
   "name": "python",
   "nbconvert_exporter": "python",
   "pygments_lexer": "ipython3",
   "version": "3.5.2"
  }
 },
 "nbformat": 4,
 "nbformat_minor": 1
}
