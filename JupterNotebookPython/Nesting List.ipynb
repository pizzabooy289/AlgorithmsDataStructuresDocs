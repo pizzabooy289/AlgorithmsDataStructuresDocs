{
 "cells": [
  {
   "cell_type": "markdown",
   "metadata": {},
   "source": [
    "# Nesting List"
   ]
  },
  {
   "cell_type": "code",
   "execution_count": 11,
   "metadata": {
    "collapsed": true
   },
   "outputs": [],
   "source": [
    "c = ['ccc','ddd']\n",
    "\n",
    "b = ['bb', c, 'ee', 'ff']\n",
    "\n",
    "h = ['hh', 'ii']\n",
    "\n",
    "x = ['a', b, 'g', h, 'j']"
   ]
  },
  {
   "cell_type": "code",
   "execution_count": 12,
   "metadata": {
    "collapsed": false
   },
   "outputs": [
    {
     "name": "stdout",
     "output_type": "stream",
     "text": [
      "['a', ['bb', ['ccc', 'ddd'], 'ee', 'ff'], 'g', ['hh', 'ii'], 'j']\n"
     ]
    }
   ],
   "source": [
    "print( x)"
   ]
  },
  {
   "cell_type": "markdown",
   "metadata": {
    "collapsed": true
   },
   "source": [
    "# Coding Notes"
   ]
  },
  {
   "cell_type": "markdown",
   "metadata": {},
   "source": [
    "The isinstance() function returns True if the specified object is of the specified type otherwise False.\n",
    "\n",
    "## Syntax\n",
    "isinstance(object, type)\n",
    "\n",
    "## Parameter Values\n",
    "\n",
    "| Parameter      | Description |\n",
    "| ----------- | ----------- |\n",
    "| object      | Required. An object.      |\n",
    "| type   | A type or a class, or a tuple of types and/or classes       |\n",
    "\n",
    "\n",
    "\n"
   ]
  },
  {
   "cell_type": "code",
   "execution_count": 13,
   "metadata": {
    "collapsed": false
   },
   "outputs": [
    {
     "data": {
      "text/plain": [
       "True"
      ]
     },
     "execution_count": 13,
     "metadata": {},
     "output_type": "execute_result"
    }
   ],
   "source": [
    "isinstance(\"A\", str)"
   ]
  },
  {
   "cell_type": "markdown",
   "metadata": {},
   "source": [
    "# Coding Example\n",
    "\n",
    "Converting Nesting List to Python List. \n",
    "\n",
    "The first IF and FOR statement checks the object for string and puts string value in the Python List.\n",
    "\n",
    "The ELIF goes down the one level when non string value is found. \n",
    "\n",
    "The RETURN is only used after the entire Nest List converted to Python List and Python List is printed out. \n"
   ]
  },
  {
   "cell_type": "code",
   "execution_count": 20,
   "metadata": {
    "collapsed": true
   },
   "outputs": [],
   "source": [
    "class Nesting:\n",
    "    def __init__(self):\n",
    "        self.final_list = []\n",
    "\n",
    "    def toList(self, nest):\n",
    "        \n",
    "        for element in nest:\n",
    "            if isinstance(element, str):\n",
    "                self.final_list.append(element);\n",
    "            elif isinstance(element, list):\n",
    "                self.toList(element);\n",
    "\n",
    "        return self.final_list;"
   ]
  },
  {
   "cell_type": "code",
   "execution_count": 21,
   "metadata": {
    "collapsed": false
   },
   "outputs": [
    {
     "name": "stdout",
     "output_type": "stream",
     "text": [
      "['a', 'bb', 'ccc', 'ddd', 'ee', 'ff', 'g', 'hh', 'ii', 'j']\n"
     ]
    }
   ],
   "source": [
    "n=Nesting()\n",
    "print( n.toList(x) )"
   ]
  }
 ],
 "metadata": {
  "anaconda-cloud": {},
  "kernelspec": {
   "display_name": "Python [conda root]",
   "language": "python",
   "name": "conda-root-py"
  },
  "language_info": {
   "codemirror_mode": {
    "name": "ipython",
    "version": 3
   },
   "file_extension": ".py",
   "mimetype": "text/x-python",
   "name": "python",
   "nbconvert_exporter": "python",
   "pygments_lexer": "ipython3",
   "version": "3.5.2"
  }
 },
 "nbformat": 4,
 "nbformat_minor": 1
}
